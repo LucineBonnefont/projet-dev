{
  "cells": [
    {
      "cell_type": "raw",
      "metadata": {},
      "source": [
        "---\n",
        "title: Trafic simulation\n",
        "format: html\n",
        "execute:\n",
        "  echo: false\n",
        "css: styles/custom.css\n",
        "---"
      ],
      "id": "e52a8d01"
    },
    {
      "cell_type": "markdown",
      "metadata": {},
      "source": [
        "![ ](images/logo.png){style=\"position: absolute; top: 20px; left: 20px; width: 150px; height: auto;\"}\n",
        "\n",
        "\n",
        "Que révèlent les trajets des cyclistes dans Montpellier ? Grâce à une analyse des données de ce jour un mois plus tôt, cette vidéo immersive montre **les flux de déplacement en temps réel** à travers la ville.  \n",
        " \n",
        "- **Quels quartiers sont les plus connectés ?**  \n",
        "- **Quelles routes sont privilégiées aux heures de pointe ?**  \n",
        "- **Comment améliorer la mobilité durable à Montpellier ?**\n",
        "   \n",
        "\n",
        "Que vous soyez cycliste, citadin curieux ou décideur, cette visualisation peut vous inspirer à mieux comprendre la dynamique des trajets urbains. \n"
      ],
      "id": "94a4a35a"
    },
    {
      "cell_type": "code",
      "metadata": {},
      "source": [
        "from bike_data import get_bike_data, get_bike_routes\n",
        "from simulation import simulation \n",
        "import matplotlib\n",
        "from IPython.display import HTML\n",
        "import datetime\n",
        "from dateutil.relativedelta import relativedelta\n",
        "import locale\n",
        "locale.setlocale(locale.LC_TIME,'')\n",
        "\n",
        "# simulation_date = '2024-09-30'\n",
        "simulation_date = datetime.date.today() + relativedelta(months=-1)\n",
        "print(f'Journée du {simulation_date.strftime(\"%d/%m/%Y\")}')\n",
        "\n",
        "# Retrieve stations and routes\n",
        "stations, trajets = get_bike_data(simulation_date)\n",
        "\n",
        "# Get bike routes based on stations and trips\n",
        "bikes_routes = get_bike_routes(stations, trajets)\n",
        "\n",
        "# Run the simulation with the generated routes\n",
        "anim = simulation(bikes_routes, simulation_date)\n",
        "HTML(anim.to_html5_video())"
      ],
      "id": "a85804a5",
      "execution_count": null,
      "outputs": []
    },
    {
      "cell_type": "markdown",
      "metadata": {},
      "source": [
        "## Densité du traffic sur la journée du mois dernier.\n"
      ],
      "id": "dc2b2389"
    },
    {
      "cell_type": "code",
      "metadata": {},
      "source": [
        "from bike_data import get_bike_data, get_bike_routes\n",
        "from density import create_density_map \n",
        "from IPython.display import HTML\n",
        "import datetime\n",
        "from dateutil.relativedelta import relativedelta\n",
        "import locale\n",
        "locale.setlocale(locale.LC_TIME,'')\n",
        "\n",
        "# simulation_date = datetime.datetime.strptime('2024-11-14', \"%Y-%m-%d\")\n",
        "simulation_date = datetime.date.today() + relativedelta(months=-1)\n",
        "print(f'Journée du {simulation_date.strftime(\"%d/%m/%Y\")}')\n",
        "\n",
        "# Retrieve stations and routes\n",
        "stations, trajets = get_bike_data(simulation_date)\n",
        "\n",
        "# Get bike routes based on stations and trips\n",
        "bikes_routes = get_bike_routes(stations, trajets)\n",
        "\n",
        "# Create and display density map\n",
        "density_map = create_density_map(bikes_routes)\n",
        "HTML(density_map._repr_html_())"
      ],
      "id": "8c69c0f3",
      "execution_count": null,
      "outputs": []
    },
    {
      "cell_type": "markdown",
      "metadata": {},
      "source": [
        "<footer>\n",
        "  <p>\n",
        "    &copy; 2024 MONTPELLI'CYCLE. This project is licensed under the \n",
        "    <a href=\"license.html\" target=\"_blank\" style=\"color: #00bfff;\">MIT License</a>.\n",
        "  </p>\n",
        "</footer>"
      ],
      "id": "6a4d0da2"
    }
  ],
  "metadata": {
    "kernelspec": {
      "name": "python3",
      "language": "python",
      "display_name": "Python 3 (ipykernel)"
    }
  },
  "nbformat": 4,
  "nbformat_minor": 5
}