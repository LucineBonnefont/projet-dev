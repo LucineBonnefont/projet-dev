{
  "cells": [
    {
      "cell_type": "raw",
      "metadata": {},
      "source": [
        "---\n",
        "title: Traffic simulation\n",
        "format: html\n",
        "execute:\n",
        "  echo: false\n",
        "---"
      ],
      "id": "af0f2d45"
    },
    {
      "cell_type": "markdown",
      "metadata": {},
      "source": [
        "Simulation du traffic de vélo dans Montpellier sur la journée du mois dernier.\n"
      ],
      "id": "c5a94661"
    },
    {
      "cell_type": "code",
      "metadata": {},
      "source": [
        "from bike_data import get_bike_data, get_bike_routes\n",
        "from simulation import simulation \n",
        "import matplotlib\n",
        "from IPython.display import HTML\n",
        "import datetime\n",
        "from dateutil.relativedelta import relativedelta\n",
        "import locale\n",
        "locale.setlocale(locale.LC_TIME,'')\n",
        "\n",
        "# simulation_date = '2024-09-30'\n",
        "simulation_date = datetime.date.today() + relativedelta(months=-1)\n",
        "print(f'Journée du {simulation_date.strftime(\"%d/%m/%Y\")}')\n",
        "\n",
        "# Retrieve stations and routes\n",
        "stations, trajets = get_bike_data(simulation_date)\n",
        "\n",
        "# Get bike routes based on stations and trips\n",
        "bikes_routes = get_bike_routes(stations, trajets)\n",
        "\n",
        "# Run the simulation with the generated routes\n",
        "anim = simulation(bikes_routes, simulation_date)\n",
        "HTML(anim.to_html5_video())"
      ],
      "id": "7ebea12c",
      "execution_count": null,
      "outputs": []
    }
  ],
  "metadata": {
    "kernelspec": {
      "display_name": "Python 3",
      "language": "python",
      "name": "python3"
    }
  },
  "nbformat": 4,
  "nbformat_minor": 5
}