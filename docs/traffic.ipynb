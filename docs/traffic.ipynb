{
  "cells": [
    {
      "cell_type": "raw",
      "metadata": {},
      "source": [
        "---\n",
        "title: Traffic simulation\n",
        "format: html\n",
        "execute:\n",
        "  echo: false\n",
        "---"
      ],
      "id": "c09da34b"
    },
    {
      "cell_type": "markdown",
      "metadata": {},
      "source": [
        "Simulation du traffic de vélo dans Montpellier sur la journée du 30/09/2024.\n"
      ],
      "id": "29296123"
    },
    {
      "cell_type": "code",
      "metadata": {},
      "source": [
        "from bike_data import get_bike_data, get_bike_routes\n",
        "from simulation import simulation \n",
        "import matplotlib\n",
        "from IPython.display import HTML\n",
        "\n",
        "simulation_date = '2024-09-30'\n",
        "\n",
        "# Retrieve stations and routes\n",
        "stations, trajets = get_bike_data(simulation_date)\n",
        "\n",
        "# Get bike routes based on stations and trips\n",
        "bikes_routes = get_bike_routes(stations, trajets)\n",
        "\n",
        "# Run the simulation with the generated routes\n",
        "anim = simulation(bikes_routes, simulation_date)\n",
        "HTML(anim.to_html5_video())"
      ],
      "id": "c2e1ff6c",
      "execution_count": null,
      "outputs": []
    }
  ],
  "metadata": {
    "kernelspec": {
      "name": "python3",
      "language": "python",
      "display_name": "Python 3 (ipykernel)"
    }
  },
  "nbformat": 4,
  "nbformat_minor": 5
}